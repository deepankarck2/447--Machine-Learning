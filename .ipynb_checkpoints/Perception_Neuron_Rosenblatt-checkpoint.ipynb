{
 "cells": [
  {
   "cell_type": "markdown",
   "id": "91788418",
   "metadata": {},
   "source": [
    "# Implemeting Rosenblatt's perceptron rule for Classification"
   ]
  },
  {
   "cell_type": "markdown",
   "id": "8c48b6ec",
   "metadata": {},
   "source": [
    "### An object-oriented perceptron API"
   ]
  },
  {
   "cell_type": "markdown",
   "id": "9e622ad8",
   "metadata": {},
   "source": [
    "<p style=\"font-family: times; font-size: 18px; text-align: justify;\"> We will take an object-oriented approach to define the perceptron interface as a\n",
    "    Python class, which allows us to initialize new <strong>Perceptron</strong> objects that can learn\n",
    "    from data via a <em>fit</em> method, and make predictions via a separate predict method.\n",
    "As a convention, we append an underscore (_) to attributes that are not being created\n",
    "upon the initialization of the object but by calling the object's other methods, for\n",
    "example, self.w_ </p>"
   ]
  },
  {
   "cell_type": "markdown",
   "id": "2e5b442f",
   "metadata": {},
   "source": [
    "<hr>"
   ]
  },
  {
   "cell_type": "code",
   "execution_count": null,
   "id": "183b4641",
   "metadata": {},
   "outputs": [],
   "source": [
    "import numpy as np\n",
    "\n",
    "class Perception(object):\n",
    "    \"\"\"Perceptron classifier.\n",
    "            Parameters\n",
    "            ------------\n",
    "            eta : float  - Learning rate (between 0.0 and 1.0)\n",
    "            n_iter : int - Passes over the training dataset.\n",
    "            random_state : int - Random number generator seed for random weight initialization.\n",
    "            \n",
    "            Attributes\n",
    "            -----------\n",
    "            w_ : 1d-array\n",
    "            Weights after fitting.\n",
    "            errors_ : list\n",
    "            Number of misclassifications (updates) in each epoch. \"\"\"\n",
    "    \n",
    "    \n",
    "    def __init__(self, eta= 0.01, n_iter=50, random_state=1):\n",
    "        self.eta = eta\n",
    "        self.n_iter = n_iter\n",
    "        self.random_state = random_state\n",
    "    \n",
    "    \n",
    "    def fit(self, x,y):\n",
    "        \"\"\"Fit training data.\n",
    "                Parameters\n",
    "                ----------\n",
    "                X : {array-like}, shape = [n_samples, n_features]\n",
    "                Training vectors, where n_samples is the number of\n",
    "                samples and\n",
    "                n_features is the number of features.\n",
    "                y : array-like, shape = [n_samples]\n",
    "                Target values.\n",
    "                Returns\n",
    "                -------\n",
    "                self : object \"\"\"\n",
    "        \n",
    "        \n",
    "        "
   ]
  }
 ],
 "metadata": {
  "kernelspec": {
   "display_name": "Python 3 (ipykernel)",
   "language": "python",
   "name": "python3"
  },
  "language_info": {
   "codemirror_mode": {
    "name": "ipython",
    "version": 3
   },
   "file_extension": ".py",
   "mimetype": "text/x-python",
   "name": "python",
   "nbconvert_exporter": "python",
   "pygments_lexer": "ipython3",
   "version": "3.10.4"
  }
 },
 "nbformat": 4,
 "nbformat_minor": 5
}
